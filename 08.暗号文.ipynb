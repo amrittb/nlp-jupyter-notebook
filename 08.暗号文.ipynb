{
 "cells": [
  {
   "cell_type": "code",
   "execution_count": 1,
   "id": "cdaab480-7868-406a-a883-bb0262a37a7b",
   "metadata": {},
   "outputs": [],
   "source": [
    "# 08.暗号文\n",
    "# https://nlp100.github.io/ja/ch01.html#08-%E6%9A%97%E5%8F%B7%E6%96%87"
   ]
  },
  {
   "cell_type": "code",
   "execution_count": 12,
   "id": "4c1fb8b8-12eb-461f-aca3-7ce594c7ab6b",
   "metadata": {},
   "outputs": [],
   "source": [
    "ascii_code_a = 97\n",
    "ascii_code_z = 122\n",
    "\n",
    "# 暗号化関数の実装\n",
    "def encrypt(text):\n",
    "    encrypted = \"\"\n",
    "    for char in [*text]:\n",
    "        char_ascii = ord(char)\n",
    "        \n",
    "        if char_ascii >= ascii_code_a and char_ascii <= ascii_code_z:\n",
    "            encrypted += chr(219 - char_ascii)\n",
    "        else:\n",
    "            encrypted += char\n",
    "    \n",
    "    return encrypted\n",
    "\n",
    "# 復号化関数の実装\n",
    "def decrypt(text):\n",
    "    decrypted = \"\"\n",
    "    for char in [*text]:\n",
    "        char_ascii = ord(char)\n",
    "        \n",
    "        if char_ascii >= (ascii_code_a - 219) and char_ascii <= (ascii_code_z - 219):\n",
    "            decrypted += chr(219 + char_ascii)\n",
    "        else:\n",
    "            decrypted += char\n",
    "    \n",
    "    return decrypted"
   ]
  },
  {
   "cell_type": "code",
   "execution_count": 13,
   "id": "c698ffea-ea46-48dc-a040-a167a3a978f9",
   "metadata": {},
   "outputs": [
    {
     "name": "stdout",
     "output_type": "stream",
     "text": [
      "A Rzmwln Tvcg\n",
      "A Random Text\n"
     ]
    }
   ],
   "source": [
    "text = \"A Random Text\"\n",
    "encrypted = encrypt(text)\n",
    "decrypted = decrypt(text)\n",
    "\n",
    "print(encrypted)\n",
    "print(decrypted)"
   ]
  }
 ],
 "metadata": {
  "kernelspec": {
   "display_name": "Python 3 (ipykernel)",
   "language": "python",
   "name": "python3"
  },
  "language_info": {
   "codemirror_mode": {
    "name": "ipython",
    "version": 3
   },
   "file_extension": ".py",
   "mimetype": "text/x-python",
   "name": "python",
   "nbconvert_exporter": "python",
   "pygments_lexer": "ipython3",
   "version": "3.9.12"
  }
 },
 "nbformat": 4,
 "nbformat_minor": 5
}
