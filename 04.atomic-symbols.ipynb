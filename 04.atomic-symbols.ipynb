{
 "cells": [
  {
   "cell_type": "code",
   "execution_count": null,
   "id": "1e4150c9-e213-435c-99a4-66a15716663a",
   "metadata": {},
   "outputs": [],
   "source": [
    "# 04. Atomic Symbols　(元素記号)\n",
    "# https://nlp100.github.io/en/ch01.html#04-atomic-symbols"
   ]
  },
  {
   "cell_type": "code",
   "execution_count": 1,
   "id": "1ed3e05b-3012-489a-9411-3431068a9e5d",
   "metadata": {},
   "outputs": [
    {
     "name": "stdout",
     "output_type": "stream",
     "text": [
      "{'H': 1, 'He': 2, 'Li': 3, 'Be': 4, 'B': 5, 'C': 6, 'N': 7, 'O': 8, 'F': 9, 'Ne': 10, 'Na': 11, 'Mi': 12, 'Al': 13, 'Si': 14, 'P': 15, 'S': 16, 'Cl': 17, 'Ar': 18, 'K': 19, 'Ca': 20}\n"
     ]
    }
   ],
   "source": [
    "sentence = \"Hi He Lied Because Boron Could Not Oxidize Fluorine. New Nations Might Also Sign Peace Security Clause. Arthur King Can\"\n",
    "\n",
    "non_punctuational_sentence = sentence.replace(\".\",\"\")\n",
    "\n",
    "words = non_punctuational_sentence.split(\" \")\n",
    "\n",
    "letter_word_map = {}\n",
    "\n",
    "one_character_positions = set([1, 5, 6, 7, 8, 9, 15, 16, 19])\n",
    "for i, word in enumerate(words):\n",
    "    pos = i + 1\n",
    "    \n",
    "    if pos in one_character_positions:\n",
    "        letter_word_map[word[0]] = pos\n",
    "    else:\n",
    "        letter_word_map[word[0:2]] = pos\n",
    "        \n",
    "print(letter_word_map)"
   ]
  }
 ],
 "metadata": {
  "kernelspec": {
   "display_name": "Python 3 (ipykernel)",
   "language": "python",
   "name": "python3"
  },
  "language_info": {
   "codemirror_mode": {
    "name": "ipython",
    "version": 3
   },
   "file_extension": ".py",
   "mimetype": "text/x-python",
   "name": "python",
   "nbconvert_exporter": "python",
   "pygments_lexer": "ipython3",
   "version": "3.9.12"
  }
 },
 "nbformat": 4,
 "nbformat_minor": 5
}
