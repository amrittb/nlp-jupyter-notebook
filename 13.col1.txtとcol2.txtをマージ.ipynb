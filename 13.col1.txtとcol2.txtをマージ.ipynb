{
 "cells": [
  {
   "cell_type": "code",
   "execution_count": null,
   "id": "19728fc0-13ed-4193-af77-d1ccb9d053b1",
   "metadata": {},
   "outputs": [],
   "source": [
    "# 13.col1.txtとcol2.txtをマージ\n",
    "# https://nlp100.github.io/ja/ch02.html#14-%E5%85%88%E9%A0%AD%E3%81%8B%E3%82%89n%E8%A1%8C%E3%82%92%E5%87%BA%E5%8A%9B"
   ]
  },
  {
   "cell_type": "code",
   "execution_count": 1,
   "id": "b106e0fd-ef84-4848-a805-e4cf89cd25cc",
   "metadata": {},
   "outputs": [],
   "source": [
    "col1_lines = []\n",
    "col2_lines = []\n",
    "\n",
    "with open(\"exports/col1.txt\", \"r\") as file:\n",
    "    col1_lines = file.readlines()\n",
    "\n",
    "with open(\"exports/col2.txt\", \"r\") as file:\n",
    "    col2_lines = file.readlines()\n",
    "        \n",
    "with open(\"exports/col_merged.txt\", \"w+\") as file:\n",
    "    for i in range(len(col1_lines)):\n",
    "        file.write(f\"{col1_lines[i].strip()}\\t{col2_lines[i].strip()}\\n\")"
   ]
  },
  {
   "cell_type": "code",
   "execution_count": null,
   "id": "c0fe8319-c588-4444-a2d3-92cd6ac826f0",
   "metadata": {},
   "outputs": [],
   "source": [
    "# Linux Command\n",
    "# paste -d \"\\t\" col1.txt col2.txt | diff col_merged.txt -"
   ]
  }
 ],
 "metadata": {
  "kernelspec": {
   "display_name": "Python 3 (ipykernel)",
   "language": "python",
   "name": "python3"
  },
  "language_info": {
   "codemirror_mode": {
    "name": "ipython",
    "version": 3
   },
   "file_extension": ".py",
   "mimetype": "text/x-python",
   "name": "python",
   "nbconvert_exporter": "python",
   "pygments_lexer": "ipython3",
   "version": "3.9.12"
  }
 },
 "nbformat": 4,
 "nbformat_minor": 5
}
