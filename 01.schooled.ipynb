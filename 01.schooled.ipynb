{
 "cells": [
  {
   "cell_type": "code",
   "execution_count": null,
   "id": "052aa453-a973-4722-832b-11eb85b47aea",
   "metadata": {},
   "outputs": [],
   "source": [
    "# 01. \"schooled\"\n",
    "# https://nlp100.github.io/en/ch01.html#01-schooled\n",
    "# Obtain the string that concatenates the 1st, 3rd, 5th, and 7th letters in the string “schooled”."
   ]
  },
  {
   "cell_type": "code",
   "execution_count": 1,
   "id": "695c1a32-7b07-41c6-be59-fe329fbfcde0",
   "metadata": {},
   "outputs": [
    {
     "name": "stdout",
     "output_type": "stream",
     "text": [
      "shoe\n"
     ]
    }
   ],
   "source": [
    "val = \"schooled\"\n",
    "new_val = \"\".join([val[0], val[2], val[4], val[6]])\n",
    "print(new_val)"
   ]
  }
 ],
 "metadata": {
  "kernelspec": {
   "display_name": "Python 3 (ipykernel)",
   "language": "python",
   "name": "python3"
  },
  "language_info": {
   "codemirror_mode": {
    "name": "ipython",
    "version": 3
   },
   "file_extension": ".py",
   "mimetype": "text/x-python",
   "name": "python",
   "nbconvert_exporter": "python",
   "pygments_lexer": "ipython3",
   "version": "3.9.12"
  }
 },
 "nbformat": 4,
 "nbformat_minor": 5
}
