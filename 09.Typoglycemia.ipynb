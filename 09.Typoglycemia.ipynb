{
 "cells": [
  {
   "cell_type": "code",
   "execution_count": null,
   "id": "3053ad9b-4c21-425f-8021-3fa7bd1034d4",
   "metadata": {},
   "outputs": [],
   "source": [
    "# 09.Typoglycemia\n",
    "# https://nlp100.github.io/ja/ch01.html#09-typoglycemia"
   ]
  },
  {
   "cell_type": "code",
   "execution_count": 9,
   "id": "92c8270c-4cda-4a08-98d9-7fdb690a8e18",
   "metadata": {},
   "outputs": [],
   "source": [
    "import random\n",
    "\n",
    "def shuffle_letters(word):\n",
    "    # 単語の長さが４以下ならば並び替えない\n",
    "    if len(word) < 4:\n",
    "        return word\n",
    "    \n",
    "    word = list(word)\n",
    "    \n",
    "    # len = 4, (1, 2)\n",
    "    # len = 5, (1, 2, 3)\n",
    "    allowed_choices = list(range(1, len(word) - 1))\n",
    "    while len(allowed_choices) >= 2:\n",
    "        first = random.choice(allowed_choices)\n",
    "        allowed_choices.remove(first)\n",
    "        \n",
    "        second = random.choice(allowed_choices)\n",
    "        allowed_choices.remove(second)\n",
    "        \n",
    "        tmp = word[first]\n",
    "        word[first] = word[second]\n",
    "        word[second] = tmp\n",
    "    \n",
    "    return \"\".join(word)"
   ]
  },
  {
   "cell_type": "code",
   "execution_count": 19,
   "id": "3123cfbf-27f3-423d-8520-de3bed7a0b9e",
   "metadata": {},
   "outputs": [
    {
     "name": "stdout",
     "output_type": "stream",
     "text": [
      "a\n",
      "ab\n",
      "abc\n",
      "acbd\n",
      "adcbe\n"
     ]
    }
   ],
   "source": [
    "print(shuffle_letters(\"a\"))\n",
    "print(shuffle_letters(\"ab\"))\n",
    "print(shuffle_letters(\"abc\"))\n",
    "print(shuffle_letters(\"abcd\"))\n",
    "print(shuffle_letters(\"abcde\"))"
   ]
  },
  {
   "cell_type": "code",
   "execution_count": 32,
   "id": "fa7cc957-1011-4f40-9f07-ede752877f33",
   "metadata": {},
   "outputs": [
    {
     "name": "stdout",
     "output_type": "stream",
     "text": [
      "I c’dnulot bilevee taht I cluod atcaully unradtsend waht I was raenidg : the pnoheaneml pewor of the hmuan mnid .\n"
     ]
    }
   ],
   "source": [
    "sentence = \"I couldn’t believe that I could actually understand what I was reading : the phenomenal power of the human mind .\"\n",
    "word_list = sentence.split()\n",
    "\n",
    "shuffled_sentence = \" \".join([ shuffle_letters(word) for word in word_list ])\n",
    "print(shuffled_sentence)"
   ]
  }
 ],
 "metadata": {
  "kernelspec": {
   "display_name": "Python 3 (ipykernel)",
   "language": "python",
   "name": "python3"
  },
  "language_info": {
   "codemirror_mode": {
    "name": "ipython",
    "version": 3
   },
   "file_extension": ".py",
   "mimetype": "text/x-python",
   "name": "python",
   "nbconvert_exporter": "python",
   "pygments_lexer": "ipython3",
   "version": "3.9.12"
  }
 },
 "nbformat": 4,
 "nbformat_minor": 5
}
