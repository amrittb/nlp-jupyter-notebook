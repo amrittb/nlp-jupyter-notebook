{
 "cells": [
  {
   "cell_type": "code",
   "execution_count": null,
   "id": "8b5c304e-6215-488b-b031-8858045e67b3",
   "metadata": {},
   "outputs": [],
   "source": [
    "# 05. n-gram\n",
    "# https://nlp100.github.io/ja/ch01.html#05-n-gram"
   ]
  },
  {
   "cell_type": "code",
   "execution_count": 17,
   "id": "b20d742d-e450-45bd-9010-a55d950b39cd",
   "metadata": {},
   "outputs": [],
   "source": [
    "def n_gram(lst, n):\n",
    "    if len(lst) <= n:\n",
    "        return [lst]\n",
    "    \n",
    "    n_grams = []\n",
    "    for i in range(len(lst) - n + 1):\n",
    "        n_grams.append(tuple(lst[i:i+n]))\n",
    "        \n",
    "    return n_grams"
   ]
  },
  {
   "cell_type": "code",
   "execution_count": 18,
   "id": "fddb72e0-4c19-4cc7-83af-c618b3decfd0",
   "metadata": {},
   "outputs": [
    {
     "name": "stdout",
     "output_type": "stream",
     "text": [
      "[('I', 'am'), ('am', 'an'), ('an', 'NLPer')]\n",
      "[('I', 'a'), ('a', 'm'), ('m', 'a'), ('a', 'n'), ('n', 'N'), ('N', 'L'), ('L', 'P'), ('P', 'e'), ('e', 'r')]\n"
     ]
    }
   ],
   "source": [
    "sentence = \"I am an NLPer\"\n",
    "word_bigram = n_gram(sentence.split(\" \"), 2)\n",
    "letter_bigram = n_gram([*sentence.replace(\" \", \"\")], 2)\n",
    "\n",
    "print(word_bigram)\n",
    "print(letter_bigram)"
   ]
  },
  {
   "cell_type": "code",
   "execution_count": null,
   "id": "c66d6ded-fb78-4033-9126-bf29fa19ffe3",
   "metadata": {},
   "outputs": [],
   "source": []
  }
 ],
 "metadata": {
  "kernelspec": {
   "display_name": "Python 3 (ipykernel)",
   "language": "python",
   "name": "python3"
  },
  "language_info": {
   "codemirror_mode": {
    "name": "ipython",
    "version": 3
   },
   "file_extension": ".py",
   "mimetype": "text/x-python",
   "name": "python",
   "nbconvert_exporter": "python",
   "pygments_lexer": "ipython3",
   "version": "3.9.12"
  }
 },
 "nbformat": 4,
 "nbformat_minor": 5
}
