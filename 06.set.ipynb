{
 "cells": [
  {
   "cell_type": "code",
   "execution_count": null,
   "id": "9a3773f5-39d2-4ec7-9c24-464947e4b452",
   "metadata": {},
   "outputs": [],
   "source": [
    "# 06. set\n",
    "# https://nlp100.github.io/en/ch01.html#06-set"
   ]
  },
  {
   "cell_type": "code",
   "execution_count": 5,
   "id": "95c0ed53-1b5f-4cdb-b39f-f12ae4b656a2",
   "metadata": {},
   "outputs": [],
   "source": [
    "def n_gram(lst, n):\n",
    "    if len(lst) <= n:\n",
    "        return [lst]\n",
    "    \n",
    "    n_grams = []\n",
    "    for i in range(len(lst) - n + 1):\n",
    "        n_grams.append(tuple(lst[i:i+n]))\n",
    "        \n",
    "    return n_grams"
   ]
  },
  {
   "cell_type": "code",
   "execution_count": 1,
   "id": "e8d0ecbc-606c-4f4b-87e8-f991d06c4a50",
   "metadata": {},
   "outputs": [],
   "source": [
    "x = \"paraparaparadise\"\n",
    "y = \"paragraph\""
   ]
  },
  {
   "cell_type": "code",
   "execution_count": 12,
   "id": "69134164-8633-4de5-b4a9-7642868aa2ba",
   "metadata": {},
   "outputs": [
    {
     "name": "stdout",
     "output_type": "stream",
     "text": [
      "{('r', 'a'), ('p', 'a'), ('a', 'r'), ('d', 'i'), ('i', 's'), ('s', 'e'), ('a', 'p'), ('a', 'd')}\n",
      "{('r', 'a'), ('p', 'a'), ('a', 'r'), ('a', 'g'), ('p', 'h'), ('g', 'r'), ('a', 'p')}\n",
      "{('r', 'a'), ('p', 'a'), ('a', 'r'), ('d', 'i'), ('i', 's'), ('a', 'g'), ('s', 'e'), ('p', 'h'), ('g', 'r'), ('a', 'p'), ('a', 'd')}\n",
      "{('a', 'p'), ('r', 'a'), ('p', 'a'), ('a', 'r')}\n",
      "{('i', 's'), ('d', 'i'), ('s', 'e'), ('a', 'd')}\n",
      "{('a', 'g'), ('p', 'h'), ('g', 'r')}\n",
      "Does it exist in x_bigram? True\n",
      "Does it exist in y_bigram? False\n",
      "Does it exist in xy_union? True\n",
      "Does it exist in xy_intersection? False\n",
      "Does it exist in x_minus_y? True\n",
      "Does it exist in y_minus_x? False\n"
     ]
    }
   ],
   "source": [
    "x_bigram = set(n_gram([*x], 2))\n",
    "y_bigram = set(n_gram([*y], 2))\n",
    "\n",
    "xy_union = x_bigram | y_bigram\n",
    "xy_intersection = x_bigram & y_bigram\n",
    "x_minus_y = x_bigram - y_bigram\n",
    "y_minus_x = y_bigram - x_bigram\n",
    "print(x_bigram)\n",
    "print(y_bigram)\n",
    "print(xy_union)\n",
    "print(xy_intersection)\n",
    "print(x_minus_y)\n",
    "print(y_minus_x)\n",
    "\n",
    "tuple_to_search = tuple(['s','e'])\n",
    "print(\"Does it exist in x_bigram?\", tuple_to_search in x_bigram)\n",
    "print(\"Does it exist in y_bigram?\", tuple_to_search in y_bigram)\n",
    "print(\"Does it exist in xy_union?\", tuple_to_search in xy_union)\n",
    "print(\"Does it exist in xy_intersection?\", tuple_to_search in xy_intersection)\n",
    "print(\"Does it exist in x_minus_y?\", tuple_to_search in x_minus_y)\n",
    "print(\"Does it exist in y_minus_x?\", tuple_to_search in y_minus_x)"
   ]
  },
  {
   "cell_type": "code",
   "execution_count": null,
   "id": "ad940086-6828-4238-afe2-c49910cd06ea",
   "metadata": {},
   "outputs": [],
   "source": []
  }
 ],
 "metadata": {
  "kernelspec": {
   "display_name": "Python 3 (ipykernel)",
   "language": "python",
   "name": "python3"
  },
  "language_info": {
   "codemirror_mode": {
    "name": "ipython",
    "version": 3
   },
   "file_extension": ".py",
   "mimetype": "text/x-python",
   "name": "python",
   "nbconvert_exporter": "python",
   "pygments_lexer": "ipython3",
   "version": "3.9.12"
  }
 },
 "nbformat": 4,
 "nbformat_minor": 5
}
