{
 "cells": [
  {
   "cell_type": "code",
   "execution_count": null,
   "id": "7fa9e4e2-d9c1-4d88-9890-b7e0e06ce236",
   "metadata": {},
   "outputs": [],
   "source": [
    "# 02. “shoe” + “cold” = “schooled”\n",
    "# https://nlp100.github.io/en/ch01.html#02-shoe--cold--schooled\n",
    "# Obtain the string “schooled” by concatenating the letters in “shoe” and “cold” one after the other from head to tail."
   ]
  },
  {
   "cell_type": "code",
   "execution_count": 10,
   "id": "e04af70d-5279-4367-a347-d842d1e0b7e1",
   "metadata": {},
   "outputs": [
    {
     "name": "stdout",
     "output_type": "stream",
     "text": [
      "schooleder\n"
     ]
    }
   ],
   "source": [
    "val_01 = \"shoe\"\n",
    "val_02 = \"colder\"\n",
    "\n",
    "min_len = min(len(val_01), len(val_02))\n",
    "\n",
    "new_str = \"\"\n",
    "for i in range(min_len):\n",
    "    new_str += val_01[i] + val_02[i]\n",
    "    \n",
    "if len(val_01) > min_len:\n",
    "    new_str += val_01[min_len:]\n",
    "    \n",
    "if len(val_02) > min_len:\n",
    "    new_str += val_02[min_len:]\n",
    "    \n",
    "print(new_str)"
   ]
  }
 ],
 "metadata": {
  "kernelspec": {
   "display_name": "Python 3 (ipykernel)",
   "language": "python",
   "name": "python3"
  },
  "language_info": {
   "codemirror_mode": {
    "name": "ipython",
    "version": 3
   },
   "file_extension": ".py",
   "mimetype": "text/x-python",
   "name": "python",
   "nbconvert_exporter": "python",
   "pygments_lexer": "ipython3",
   "version": "3.9.12"
  }
 },
 "nbformat": 4,
 "nbformat_minor": 5
}
