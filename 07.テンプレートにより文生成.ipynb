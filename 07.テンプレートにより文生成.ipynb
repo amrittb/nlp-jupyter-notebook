{
 "cells": [
  {
   "cell_type": "code",
   "execution_count": null,
   "id": "a3322511-3236-4cd2-9f17-6d9831ebacbc",
   "metadata": {},
   "outputs": [],
   "source": [
    "# 07.テンプレートにより文生成\n",
    "# https://nlp100.github.io/ja/ch01.html#07-%E3%83%86%E3%83%B3%E3%83%97%E3%83%AC%E3%83%BC%E3%83%88%E3%81%AB%E3%82%88%E3%82%8B%E6%96%87%E7%94%9F%E6%88%90"
   ]
  },
  {
   "cell_type": "code",
   "execution_count": 1,
   "id": "659f3ae0-fa78-4278-95bd-981dd206d29e",
   "metadata": {},
   "outputs": [],
   "source": [
    "def create_sentence(x, y, z):\n",
    "    return \"{}時の{}は{}\".format(x, y, z)"
   ]
  },
  {
   "cell_type": "code",
   "execution_count": 2,
   "id": "1dcf0d5e-a927-4895-9b92-dcb013d7ed1a",
   "metadata": {},
   "outputs": [
    {
     "name": "stdout",
     "output_type": "stream",
     "text": [
      "12時の気温は22.4\n"
     ]
    }
   ],
   "source": [
    "x=12\n",
    "y=\"気温\"\n",
    "z=22.4\n",
    "print(create_sentence(x,y,z))"
   ]
  }
 ],
 "metadata": {
  "kernelspec": {
   "display_name": "Python 3 (ipykernel)",
   "language": "python",
   "name": "python3"
  },
  "language_info": {
   "codemirror_mode": {
    "name": "ipython",
    "version": 3
   },
   "file_extension": ".py",
   "mimetype": "text/x-python",
   "name": "python",
   "nbconvert_exporter": "python",
   "pygments_lexer": "ipython3",
   "version": "3.9.12"
  }
 },
 "nbformat": 4,
 "nbformat_minor": 5
}
