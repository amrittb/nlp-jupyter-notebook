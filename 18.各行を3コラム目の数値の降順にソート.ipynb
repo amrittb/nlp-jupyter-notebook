{
 "cells": [
  {
   "cell_type": "code",
   "execution_count": null,
   "id": "9cd0e505-9868-402e-b0cc-4dda19cf8633",
   "metadata": {},
   "outputs": [],
   "source": [
    "# 18. 各行を3コラム目の数値の降順にソート\n",
    "# https://nlp100.github.io/ja/ch02.html#18-%E5%90%84%E8%A1%8C%E3%82%923%E3%82%B3%E3%83%A9%E3%83%A0%E7%9B%AE%E3%81%AE%E6%95%B0%E5%80%A4%E3%81%AE%E9%99%8D%E9%A0%86%E3%81%AB%E3%82%BD%E3%83%BC%E3%83%88"
   ]
  },
  {
   "cell_type": "code",
   "execution_count": 1,
   "id": "7494ad7b-1fe4-4d18-8a4f-b550097a48b6",
   "metadata": {},
   "outputs": [],
   "source": [
    "with open(\"data/popular-names.txt\", \"r\") as file:\n",
    "    lines = []\n",
    "    for line in file:\n",
    "        split_line = line.strip().split(\"\\t\")\n",
    "        new_line = [split_line[0], split_line[1], int(split_line[2]), split_line[3]]\n",
    "        lines.append(new_line)\n",
    "        \n",
    "    sorted_list = sorted(lines, key=lambda x : x[2], reverse=True)\n",
    "    \n",
    "    with open(\"exports/18-sorted-popular-names.txt\", \"w+\") as new_file:\n",
    "        for l in sorted_list:\n",
    "            new_file.write(\"\\t\".join(str(element) for element in l) + \"\\n\")"
   ]
  },
  {
   "cell_type": "code",
   "execution_count": 13,
   "id": "87c95e8a-8b96-411c-baf1-e3d845604166",
   "metadata": {},
   "outputs": [],
   "source": [
    "# Linux Command\n",
    "# sort -r -k 3 -n popular-names.txt | diff 18-sorted-popular-names.txt -"
   ]
  }
 ],
 "metadata": {
  "kernelspec": {
   "display_name": "Python 3 (ipykernel)",
   "language": "python",
   "name": "python3"
  },
  "language_info": {
   "codemirror_mode": {
    "name": "ipython",
    "version": 3
   },
   "file_extension": ".py",
   "mimetype": "text/x-python",
   "name": "python",
   "nbconvert_exporter": "python",
   "pygments_lexer": "ipython3",
   "version": "3.9.12"
  }
 },
 "nbformat": 4,
 "nbformat_minor": 5
}
