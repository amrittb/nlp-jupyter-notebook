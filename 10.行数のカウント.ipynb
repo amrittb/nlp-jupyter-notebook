{
 "cells": [
  {
   "cell_type": "code",
   "execution_count": 1,
   "id": "06dee21c-7287-45f1-8c84-a1fc390f1e92",
   "metadata": {},
   "outputs": [],
   "source": [
    "# 10.行数のカウント\n",
    "# https://nlp100.github.io/ja/ch02.html#10-%E8%A1%8C%E6%95%B0%E3%81%AE%E3%82%AB%E3%82%A6%E3%83%B3%E3%83%88"
   ]
  },
  {
   "cell_type": "code",
   "execution_count": 1,
   "id": "f63c1a08-38de-4ba7-bf9e-2e15b9767fe7",
   "metadata": {},
   "outputs": [
    {
     "name": "stdout",
     "output_type": "stream",
     "text": [
      "2780\n"
     ]
    }
   ],
   "source": [
    "with open(\"data/popular-names.txt\", \"r\") as file:\n",
    "    lines = file.readlines()\n",
    "    print(len(lines))"
   ]
  }
 ],
 "metadata": {
  "kernelspec": {
   "display_name": "Python 3 (ipykernel)",
   "language": "python",
   "name": "python3"
  },
  "language_info": {
   "codemirror_mode": {
    "name": "ipython",
    "version": 3
   },
   "file_extension": ".py",
   "mimetype": "text/x-python",
   "name": "python",
   "nbconvert_exporter": "python",
   "pygments_lexer": "ipython3",
   "version": "3.9.12"
  }
 },
 "nbformat": 4,
 "nbformat_minor": 5
}
