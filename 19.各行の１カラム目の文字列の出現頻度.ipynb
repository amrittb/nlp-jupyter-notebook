{
 "cells": [
  {
   "cell_type": "code",
   "execution_count": null,
   "id": "9cd0e505-9868-402e-b0cc-4dda19cf8633",
   "metadata": {},
   "outputs": [],
   "source": [
    "# 19.各行の1コラム目の文字列の出現頻度を求め，出現頻度の高い順に並べる\n",
    "# https://nlp100.github.io/ja/ch02.html#19-%E5%90%84%E8%A1%8C%E3%81%AE1%E3%82%B3%E3%83%A9%E3%83%A0%E7%9B%AE%E3%81%AE%E6%96%87%E5%AD%97%E5%88%97%E3%81%AE%E5%87%BA%E7%8F%BE%E9%A0%BB%E5%BA%A6%E3%82%92%E6%B1%82%E3%82%81%E5%87%BA%E7%8F%BE%E9%A0%BB%E5%BA%A6%E3%81%AE%E9%AB%98%E3%81%84%E9%A0%86%E3%81%AB%E4%B8%A6%E3%81%B9%E3%82%8B"
   ]
  },
  {
   "cell_type": "code",
   "execution_count": 27,
   "id": "7494ad7b-1fe4-4d18-8a4f-b550097a48b6",
   "metadata": {},
   "outputs": [],
   "source": [
    "with open(\"data/popular-names.txt\", \"r\") as file:\n",
    "    col1_dict = {}\n",
    "    for line in file:\n",
    "        col1 = line.strip().split(\"\\t\")[0]\n",
    "        if col1 in col1_dict:\n",
    "            col1_dict[col1] += 1\n",
    "        else:\n",
    "            col1_dict[col1] = 1\n",
    "        \n",
    "    output_list = [\"{:4d} {}\\n\".format(val, key) for key, val in col1_dict.items()]\n",
    "    output_list.sort(reverse=True)\n",
    "    \n",
    "    with open(\"exports/19-count-popular-names.txt\", \"w+\") as new_file:\n",
    "        new_file.writelines(output_list)"
   ]
  },
  {
   "cell_type": "code",
   "execution_count": 13,
   "id": "87c95e8a-8b96-411c-baf1-e3d845604166",
   "metadata": {},
   "outputs": [],
   "source": [
    "# Linux Command\n",
    "# cut -f 1 popular-names.txt | sort | uniq -c | sort -r | diff 19-count-popular-names.txt -"
   ]
  }
 ],
 "metadata": {
  "kernelspec": {
   "display_name": "Python 3 (ipykernel)",
   "language": "python",
   "name": "python3"
  },
  "language_info": {
   "codemirror_mode": {
    "name": "ipython",
    "version": 3
   },
   "file_extension": ".py",
   "mimetype": "text/x-python",
   "name": "python",
   "nbconvert_exporter": "python",
   "pygments_lexer": "ipython3",
   "version": "3.9.12"
  }
 },
 "nbformat": 4,
 "nbformat_minor": 5
}
