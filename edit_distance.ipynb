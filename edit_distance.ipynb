{
 "cells": [
  {
   "cell_type": "code",
   "execution_count": null,
   "id": "0251e0bb-6de8-4f9e-a425-afd0d4d9242b",
   "metadata": {},
   "outputs": [],
   "source": [
    "# Problem Definition\n",
    "# D(i, j) is a function which gives the edit distance (cost) between two strings, \n",
    "# X and Y with lengths M and N respectively, \n",
    "# where 0 <= i <= M, 0 <= j <= N holds true.\n",
    "\n",
    "# X is the original string and Y is the target string\n",
    "\n",
    "# Assumptions\n",
    "# Editing can be done in 3 ways\n",
    "# - Insertion - Cost 1\n",
    "# - Deletion - Cost 1\n",
    "# - Substitution - Cost 2 (Levenshtein distance)\n",
    "\n",
    "# Initialization\n",
    "# D(i, 0) = i\n",
    "# D(0, j) = j\n",
    "# The cost of deleting 'i' number of characters from X is the length 'i'.\n",
    "# Similary, the cost of inserting 'j' number of characters from an empty string is the length 'j'.\n",
    "\n",
    "# Main function\n",
    "# D(i, j) = min(D1(i, j), D2(i,j), D3(i,j))\n",
    "# Where,\n",
    "# D1(i, j) = D(i-1, j) + 1\n",
    "# D2(i, j) = D(i, j-1) + 1\n",
    "# D3(i, j) = D(i-1, j-1) + (X(i) == Y(j)) ? 0 : 2"
   ]
  },
  {
   "cell_type": "code",
   "execution_count": 35,
   "id": "8c05bee1-00e3-48f2-a731-8e6c494651e9",
   "metadata": {},
   "outputs": [],
   "source": [
    "import numpy as np\n",
    "from enum import Enum\n",
    "\n",
    "class Pointer(Enum):\n",
    "    LEFT = 1\n",
    "    DOWN = 2\n",
    "    DIAG = 3\n",
    "\n",
    "def get_edit_distance(X, Y):\n",
    "    # Create a matrix of (M + 1) x (N + 1)\n",
    "    # + 1 for i -> null and null -> j case\n",
    "    \n",
    "    distance_matrix = np.zeros( (len(X) + 1, len(Y) + 1) )\n",
    "    pointer_stack = []\n",
    "                               \n",
    "    for i in range(distance_matrix.shape[0]):\n",
    "        for j in range(distance_matrix.shape[1]):\n",
    "            if i == 0 and j == 0:\n",
    "                distance_matrix[i][j] = 0\n",
    "                continue\n",
    "                               \n",
    "            if i == 0:\n",
    "                distance_matrix[0][j] = j\n",
    "                continue\n",
    "                               \n",
    "            if j == 0:\n",
    "                distance_matrix[i][0] = i\n",
    "                continue\n",
    "                               \n",
    "            d1 = distance_matrix[i-1][j] + 1\n",
    "            d2 = distance_matrix[i][j-1] + 1\n",
    "            d3 = distance_matrix[i-1][j-1] + (0 if X[i-1] == Y[j-1] else 2)\n",
    "            \n",
    "            dst_array = np.array([d1, d2, d3])\n",
    "            index_min = np.argmin(dst_array)\n",
    "            \n",
    "            pointer = None\n",
    "            if index_min == 0:\n",
    "                pointer = Pointer.LEFT\n",
    "            elif index_min == 1:\n",
    "                pointer = Pointer.DOWN\n",
    "            else:\n",
    "                pointer = Pointer.DIAG\n",
    "                \n",
    "            pointer_stack.append(pointer)                       \n",
    "            distance_matrix[i][j] = dst_array[index_min]\n",
    "            \n",
    "    return distance_matrix, pointer_stack"
   ]
  },
  {
   "cell_type": "code",
   "execution_count": 37,
   "id": "209381be-cf3a-4370-9499-862c220ea1d4",
   "metadata": {},
   "outputs": [
    {
     "name": "stdout",
     "output_type": "stream",
     "text": [
      "[[ 0.  1.  2.  3.  4.  5.  6.  7.  8.  9.]\n",
      " [ 1.  2.  3.  4.  5.  6.  7.  6.  7.  8.]\n",
      " [ 2.  3.  4.  5.  6.  7.  8.  7.  8.  7.]\n",
      " [ 3.  4.  5.  6.  7.  8.  7.  8.  9.  8.]\n",
      " [ 4.  3.  4.  5.  6.  7.  8.  9. 10.  9.]\n",
      " [ 5.  4.  5.  6.  7.  8.  9. 10. 11. 10.]\n",
      " [ 6.  5.  6.  7.  8.  9.  8.  9. 10. 11.]\n",
      " [ 7.  6.  7.  8.  9. 10.  9.  8.  9. 10.]\n",
      " [ 8.  7.  8.  9. 10. 11. 10.  9.  8.  9.]\n",
      " [ 9.  8.  9. 10. 11. 12. 11. 10.  9.  8.]]\n",
      "81\n"
     ]
    }
   ],
   "source": [
    "matrix, pointer = get_edit_distance(\"INTENTION\", \"EXECUTION\")\n",
    "print(matrix)"
   ]
  },
  {
   "cell_type": "code",
   "execution_count": 23,
   "id": "adff8937-b5f3-49de-82fb-5db11f388bab",
   "metadata": {},
   "outputs": [
    {
     "data": {
      "image/png": "[encoded data removed]",
      "text/plain": [
       "<Figure size 288x288 with 2 Axes>"
      ]
     },
     "metadata": {
      "needs_background": "light"
     },
     "output_type": "display_data"
    }
   ],
   "source": [
    "import matplotlib.pyplot as plt\n",
    "\n",
    "plt.matshow(matrix)\n",
    "plt.colorbar()\n",
    "plt.show()"
   ]
  }
 ],
 "metadata": {
  "kernelspec": {
   "display_name": "Python 3 (ipykernel)",
   "language": "python",
   "name": "python3"
  },
  "language_info": {
   "codemirror_mode": {
    "name": "ipython",
    "version": 3
   },
   "file_extension": ".py",
   "mimetype": "text/x-python",
   "name": "python",
   "nbconvert_exporter": "python",
   "pygments_lexer": "ipython3",
   "version": "3.9.12"
  }
 },
 "nbformat": 4,
 "nbformat_minor": 5
}
