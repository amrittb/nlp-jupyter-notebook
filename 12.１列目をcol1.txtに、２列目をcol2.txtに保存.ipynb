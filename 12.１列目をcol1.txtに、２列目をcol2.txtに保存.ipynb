{
 "cells": [
  {
   "cell_type": "code",
   "execution_count": null,
   "id": "622d4abc-c666-443e-8f78-af67ee876f11",
   "metadata": {},
   "outputs": [],
   "source": [
    "# 12.１列目をcol1.txtに、２列目をcol2.txtに保存\n",
    "# https://nlp100.github.io/ja/ch02.html#12-1%E5%88%97%E7%9B%AE%E3%82%92col1txt%E3%81%AB2%E5%88%97%E7%9B%AE%E3%82%92col2txt%E3%81%AB%E4%BF%9D%E5%AD%98"
   ]
  },
  {
   "cell_type": "code",
   "execution_count": 1,
   "id": "22235a3b-4ccc-47af-8794-0bb33487f9ed",
   "metadata": {},
   "outputs": [],
   "source": [
    "with open(\"data/popular-names.txt\", \"r\") as file:\n",
    "    col1 = []\n",
    "    col2 = []\n",
    "    for line in file:\n",
    "        col_list = line.split(\"\\t\")\n",
    "        col1.append(col_list[0])\n",
    "        col2.append(col_list[1])\n",
    "        \n",
    "    with open(\"exports/col1.txt\", \"w+\") as col1_file:\n",
    "        for col1_line in col1:\n",
    "            col1_file.write(f\"{col1_line}\\n\")\n",
    "    \n",
    "    with open(\"exports/col2.txt\", \"w+\") as col2_file:\n",
    "        for col2_line in col2:\n",
    "            col2_file.write(f\"{col2_line}\\n\")"
   ]
  },
  {
   "cell_type": "code",
   "execution_count": null,
   "id": "553f4fb6-ed3d-45aa-8dd9-8d73463e20b4",
   "metadata": {},
   "outputs": [],
   "source": [
    "# Linux Command\n",
    "# cut -f 1 popular-names.txt | diff col1.txt -\n",
    "# cut -f 2 popular-names.txt | diff col2.txt -"
   ]
  }
 ],
 "metadata": {
  "kernelspec": {
   "display_name": "Python 3 (ipykernel)",
   "language": "python",
   "name": "python3"
  },
  "language_info": {
   "codemirror_mode": {
    "name": "ipython",
    "version": 3
   },
   "file_extension": ".py",
   "mimetype": "text/x-python",
   "name": "python",
   "nbconvert_exporter": "python",
   "pygments_lexer": "ipython3",
   "version": "3.9.12"
  }
 },
 "nbformat": 4,
 "nbformat_minor": 5
}
