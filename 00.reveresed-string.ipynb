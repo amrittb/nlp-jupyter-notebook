{
 "cells": [
  {
   "cell_type": "code",
   "execution_count": null,
   "id": "022d6761-0c4b-4330-99e6-666d4d5bc3e5",
   "metadata": {},
   "outputs": [],
   "source": [
    "# 00. Reversed String\n",
    "# https://nlp100.github.io/en/ch01.html#00-reversed-string\n",
    "# Obtain the string that arranges letters of the string “stressed” in reverse order (tail to head)."
   ]
  },
  {
   "cell_type": "code",
   "execution_count": 1,
   "id": "a75f8722-03fa-4ea6-b301-6ea2d297ea64",
   "metadata": {},
   "outputs": [
    {
     "name": "stdout",
     "output_type": "stream",
     "text": [
      "desserts\n"
     ]
    }
   ],
   "source": [
    "val = \"stressed\"\n",
    "val_reversed = \"\".join([ val[i-1] for i in range(len(val), 0, -1)])\n",
    "print(val_reversed)"
   ]
  }
 ],
 "metadata": {
  "kernelspec": {
   "display_name": "Python 3 (ipykernel)",
   "language": "python",
   "name": "python3"
  },
  "language_info": {
   "codemirror_mode": {
    "name": "ipython",
    "version": 3
   },
   "file_extension": ".py",
   "mimetype": "text/x-python",
   "name": "python",
   "nbconvert_exporter": "python",
   "pygments_lexer": "ipython3",
   "version": "3.9.12"
  }
 },
 "nbformat": 4,
 "nbformat_minor": 5
}
